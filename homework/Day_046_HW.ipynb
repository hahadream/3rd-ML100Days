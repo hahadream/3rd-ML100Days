{
 "cells": [
  {
   "cell_type": "markdown",
   "metadata": {},
   "source": [
    "### 作業\n",
    "目前已經學過許多的模型，相信大家對整體流程應該比較掌握了，這次作業請改用**手寫辨識資料集**，步驟流程都是一樣的，請試著自己撰寫程式碼來完成所有步驟"
   ]
  },
  {
   "cell_type": "code",
   "execution_count": 1,
   "metadata": {},
   "outputs": [],
   "source": [
    "from sklearn import datasets, metrics\n",
    "digits = datasets.load_digits()"
   ]
  },
  {
   "cell_type": "code",
   "execution_count": 2,
   "metadata": {},
   "outputs": [
    {
     "data": {
      "text/plain": [
       "dict_keys(['data', 'target', 'target_names', 'images', 'DESCR'])"
      ]
     },
     "execution_count": 2,
     "metadata": {},
     "output_type": "execute_result"
    }
   ],
   "source": [
    "digits.keys()"
   ]
  },
  {
   "cell_type": "code",
   "execution_count": 3,
   "metadata": {},
   "outputs": [
    {
     "data": {
      "text/plain": [
       "array([0, 1, 2, 3, 4, 5, 6, 7, 8, 9])"
      ]
     },
     "execution_count": 3,
     "metadata": {},
     "output_type": "execute_result"
    }
   ],
   "source": [
    "digits['target_names']"
   ]
  },
  {
   "cell_type": "code",
   "execution_count": 4,
   "metadata": {},
   "outputs": [
    {
     "data": {
      "text/plain": [
       "(1797, 64)"
      ]
     },
     "execution_count": 4,
     "metadata": {},
     "output_type": "execute_result"
    }
   ],
   "source": [
    "digits.data.shape"
   ]
  },
  {
   "cell_type": "code",
   "execution_count": 5,
   "metadata": {},
   "outputs": [
    {
     "data": {
      "text/plain": [
       "(1797,)"
      ]
     },
     "execution_count": 5,
     "metadata": {},
     "output_type": "execute_result"
    }
   ],
   "source": [
    "digits.target.shape"
   ]
  },
  {
   "cell_type": "code",
   "execution_count": 6,
   "metadata": {},
   "outputs": [],
   "source": [
    "from sklearn.ensemble import GradientBoostingClassifier\n",
    "from sklearn.model_selection import train_test_split "
   ]
  },
  {
   "cell_type": "code",
   "execution_count": 7,
   "metadata": {},
   "outputs": [],
   "source": [
    "x_train, x_test, y_train, y_test = train_test_split(digits.data, digits.target, test_size = 0.3, random_state = 2)"
   ]
  },
  {
   "cell_type": "code",
   "execution_count": 8,
   "metadata": {},
   "outputs": [
    {
     "name": "stdout",
     "output_type": "stream",
     "text": [
      "Accuracy:  0.9351851851851852\n"
     ]
    }
   ],
   "source": [
    "clf = GradientBoostingClassifier()\n",
    "clf.fit(x_train, y_train)\n",
    "y_pred = clf.predict(x_test)\n",
    "print(\"Accuracy: \", metrics.accuracy_score(y_test, y_pred))"
   ]
  },
  {
   "cell_type": "code",
   "execution_count": 9,
   "metadata": {
    "scrolled": true
   },
   "outputs": [
    {
     "data": {
      "text/plain": [
       "array([0.00000000e+00, 2.52775914e-03, 1.49354069e-02, 2.28805198e-02,\n",
       "       1.22072106e-02, 2.48196819e-02, 4.10024736e-03, 2.99790695e-03,\n",
       "       2.10778648e-04, 6.97695438e-03, 1.02287200e-02, 7.10850066e-03,\n",
       "       2.13092658e-02, 2.86204192e-02, 1.76301519e-02, 1.88770603e-03,\n",
       "       3.56826150e-03, 1.51623170e-02, 1.94314131e-02, 2.28210325e-02,\n",
       "       3.23400831e-02, 6.35915624e-02, 1.32284581e-02, 2.94921102e-04,\n",
       "       1.37011823e-03, 1.14922852e-02, 3.64140418e-02, 2.75727354e-02,\n",
       "       2.71004950e-02, 2.18016026e-02, 9.15330671e-03, 0.00000000e+00,\n",
       "       0.00000000e+00, 2.79017797e-02, 2.64097405e-02, 1.56067333e-02,\n",
       "       3.94319203e-02, 2.15637035e-02, 1.54533963e-02, 0.00000000e+00,\n",
       "       0.00000000e+00, 1.04834592e-02, 3.38284623e-02, 3.82297249e-02,\n",
       "       1.73394385e-02, 1.99407264e-02, 1.77695509e-02, 1.72794603e-05,\n",
       "       3.97501467e-05, 2.37069250e-03, 1.37373563e-02, 2.95796440e-02,\n",
       "       8.29563085e-03, 2.24768193e-02, 1.94774776e-02, 5.98262340e-03,\n",
       "       0.00000000e+00, 2.12722482e-03, 1.33925799e-02, 5.62047415e-03,\n",
       "       3.10738077e-02, 1.80192701e-02, 6.72596214e-03, 1.03209088e-02])"
      ]
     },
     "execution_count": 9,
     "metadata": {},
     "output_type": "execute_result"
    }
   ],
   "source": [
    "clf.feature_importances_"
   ]
  },
  {
   "cell_type": "code",
   "execution_count": 10,
   "metadata": {},
   "outputs": [],
   "source": [
    "import pandas as pd\n",
    "combine = pd.DataFrame(clf.feature_importances_).reset_index()\n",
    "combine.columns = ['index', 'importance']"
   ]
  },
  {
   "cell_type": "code",
   "execution_count": 11,
   "metadata": {
    "scrolled": true
   },
   "outputs": [
    {
     "data": {
      "text/plain": [
       "64"
      ]
     },
     "execution_count": 11,
     "metadata": {},
     "output_type": "execute_result"
    }
   ],
   "source": [
    "order = combine.sort_values(by = 'importance', ascending = False)['index'].tolist()\n",
    "len(order)"
   ]
  },
  {
   "cell_type": "code",
   "execution_count": 12,
   "metadata": {},
   "outputs": [
    {
     "name": "stdout",
     "output_type": "stream",
     "text": [
      "Accuracy:  0.9425925925925925\n"
     ]
    }
   ],
   "source": [
    "from sklearn.ensemble import RandomForestClassifier\n",
    "clf2 = RandomForestClassifier()\n",
    "clf2.fit(x_train, y_train)\n",
    "y_pred2 = clf2.predict(x_test)\n",
    "print('Accuracy: ', metrics.accuracy_score(y_test, y_pred2))"
   ]
  },
  {
   "cell_type": "code",
   "execution_count": 13,
   "metadata": {},
   "outputs": [
    {
     "data": {
      "text/plain": [
       "array([0.        , 0.00053273, 0.01761412, 0.01050064, 0.0091684 ,\n",
       "       0.01833523, 0.00773643, 0.00175818, 0.        , 0.01078414,\n",
       "       0.02943879, 0.00844906, 0.01172483, 0.03195456, 0.00357468,\n",
       "       0.00014149, 0.        , 0.00579354, 0.01981193, 0.02587924,\n",
       "       0.02483807, 0.04544802, 0.0140437 , 0.00041405, 0.        ,\n",
       "       0.02550809, 0.04267756, 0.02301134, 0.04144545, 0.02286141,\n",
       "       0.02175076, 0.        , 0.        , 0.0199283 , 0.0284518 ,\n",
       "       0.02380895, 0.04744351, 0.00937516, 0.0291759 , 0.        ,\n",
       "       0.00029228, 0.00857431, 0.04374898, 0.0344803 , 0.01573007,\n",
       "       0.02162182, 0.01064637, 0.00011812, 0.        , 0.0011788 ,\n",
       "       0.01530063, 0.01998547, 0.01332296, 0.02009556, 0.02346098,\n",
       "       0.00085808, 0.        , 0.00222283, 0.03060619, 0.00805308,\n",
       "       0.02749288, 0.04398234, 0.0197167 , 0.00513119])"
      ]
     },
     "execution_count": 13,
     "metadata": {},
     "output_type": "execute_result"
    }
   ],
   "source": [
    "clf2.feature_importances_"
   ]
  },
  {
   "cell_type": "code",
   "execution_count": 14,
   "metadata": {},
   "outputs": [
    {
     "data": {
      "text/plain": [
       "64"
      ]
     },
     "execution_count": 14,
     "metadata": {},
     "output_type": "execute_result"
    }
   ],
   "source": [
    "combine2 = pd.DataFrame(clf2.feature_importances_).reset_index()\n",
    "combine2.columns = ['index', 'importance']\n",
    "order2 = combine2.sort_values(by = 'importance', ascending = False)['index'].tolist()\n",
    "len(order2)"
   ]
  },
  {
   "cell_type": "code",
   "execution_count": 15,
   "metadata": {},
   "outputs": [
    {
     "data": {
      "text/html": [
       "<div>\n",
       "<style scoped>\n",
       "    .dataframe tbody tr th:only-of-type {\n",
       "        vertical-align: middle;\n",
       "    }\n",
       "\n",
       "    .dataframe tbody tr th {\n",
       "        vertical-align: top;\n",
       "    }\n",
       "\n",
       "    .dataframe thead th {\n",
       "        text-align: right;\n",
       "    }\n",
       "</style>\n",
       "<table border=\"1\" class=\"dataframe\">\n",
       "  <thead>\n",
       "    <tr style=\"text-align: right;\">\n",
       "      <th></th>\n",
       "      <th>GBM</th>\n",
       "      <th>RF</th>\n",
       "    </tr>\n",
       "  </thead>\n",
       "  <tbody>\n",
       "    <tr>\n",
       "      <th>0</th>\n",
       "      <td>21</td>\n",
       "      <td>36</td>\n",
       "    </tr>\n",
       "    <tr>\n",
       "      <th>1</th>\n",
       "      <td>36</td>\n",
       "      <td>21</td>\n",
       "    </tr>\n",
       "    <tr>\n",
       "      <th>2</th>\n",
       "      <td>43</td>\n",
       "      <td>61</td>\n",
       "    </tr>\n",
       "    <tr>\n",
       "      <th>3</th>\n",
       "      <td>26</td>\n",
       "      <td>42</td>\n",
       "    </tr>\n",
       "    <tr>\n",
       "      <th>4</th>\n",
       "      <td>42</td>\n",
       "      <td>26</td>\n",
       "    </tr>\n",
       "    <tr>\n",
       "      <th>5</th>\n",
       "      <td>20</td>\n",
       "      <td>28</td>\n",
       "    </tr>\n",
       "    <tr>\n",
       "      <th>6</th>\n",
       "      <td>60</td>\n",
       "      <td>43</td>\n",
       "    </tr>\n",
       "    <tr>\n",
       "      <th>7</th>\n",
       "      <td>51</td>\n",
       "      <td>13</td>\n",
       "    </tr>\n",
       "    <tr>\n",
       "      <th>8</th>\n",
       "      <td>13</td>\n",
       "      <td>58</td>\n",
       "    </tr>\n",
       "    <tr>\n",
       "      <th>9</th>\n",
       "      <td>33</td>\n",
       "      <td>10</td>\n",
       "    </tr>\n",
       "  </tbody>\n",
       "</table>\n",
       "</div>"
      ],
      "text/plain": [
       "   GBM  RF\n",
       "0   21  36\n",
       "1   36  21\n",
       "2   43  61\n",
       "3   26  42\n",
       "4   42  26\n",
       "5   20  28\n",
       "6   60  43\n",
       "7   51  13\n",
       "8   13  58\n",
       "9   33  10"
      ]
     },
     "execution_count": 15,
     "metadata": {},
     "output_type": "execute_result"
    }
   ],
   "source": [
    "compare = pd.DataFrame({'GBM': order, 'RF': order2})\n",
    "compare.head(10)"
   ]
  },
  {
   "cell_type": "code",
   "execution_count": 16,
   "metadata": {},
   "outputs": [
    {
     "data": {
      "text/plain": [
       "0      True\n",
       "1      True\n",
       "2     False\n",
       "3      True\n",
       "4      True\n",
       "5     False\n",
       "6      True\n",
       "7      True\n",
       "8     False\n",
       "9     False\n",
       "10    False\n",
       "Name: RF, dtype: bool"
      ]
     },
     "execution_count": 16,
     "metadata": {},
     "output_type": "execute_result"
    }
   ],
   "source": [
    "compare.loc[:10, 'RF'].isin(compare.loc[:10, 'GBM'])"
   ]
  }
 ],
 "metadata": {
  "kernelspec": {
   "display_name": "Python 3",
   "language": "python",
   "name": "python3"
  },
  "language_info": {
   "codemirror_mode": {
    "name": "ipython",
    "version": 3
   },
   "file_extension": ".py",
   "mimetype": "text/x-python",
   "name": "python",
   "nbconvert_exporter": "python",
   "pygments_lexer": "ipython3",
   "version": "3.6.5"
  }
 },
 "nbformat": 4,
 "nbformat_minor": 2
}
