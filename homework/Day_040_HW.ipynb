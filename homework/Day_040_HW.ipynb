{
 "cells": [
  {
   "cell_type": "markdown",
   "metadata": {},
   "source": [
    "## [作業重點]\n",
    "使用 Sklearn 中的 Lasso, Ridge 模型，來訓練各種資料集，務必了解送進去模型訓練的**資料型態**為何，也請了解模型中各項參數的意義。\n",
    "\n",
    "機器學習的模型非常多種，但要訓練的資料多半有固定的格式，確保你了解訓練資料的格式為何，這樣在應用新模型時，就能夠最快的上手開始訓練！"
   ]
  },
  {
   "cell_type": "markdown",
   "metadata": {},
   "source": [
    "## 練習時間\n",
    "試著使用 sklearn datasets 的其他資料集 (boston, ...)，來訓練自己的線性迴歸模型，並加上適當的正則化來觀察訓練情形。"
   ]
  },
  {
   "cell_type": "markdown",
   "metadata": {},
   "source": [
    "### Boston Dataset"
   ]
  },
  {
   "cell_type": "code",
   "execution_count": 1,
   "metadata": {},
   "outputs": [],
   "source": [
    "import numpy as np \n",
    "import pandas as pd \n",
    "import matplotlib.pyplot as plt\n",
    "from sklearn import datasets, linear_model\n",
    "from sklearn.model_selection import train_test_split\n",
    "from sklearn.metrics import mean_squared_error, r2_score "
   ]
  },
  {
   "cell_type": "code",
   "execution_count": 2,
   "metadata": {},
   "outputs": [],
   "source": [
    "boston = datasets.load_boston()"
   ]
  },
  {
   "cell_type": "code",
   "execution_count": 3,
   "metadata": {},
   "outputs": [],
   "source": [
    "x_train, x_test, y_train, y_test = train_test_split(boston.data, boston.target, test_size = 0.2, random_state = 2)\n",
    "regr = linear_model.LinearRegression()\n",
    "regr.fit(x_train, y_train)\n",
    "y_pred_lr = regr.predict(x_test)"
   ]
  },
  {
   "cell_type": "code",
   "execution_count": 4,
   "metadata": {},
   "outputs": [
    {
     "name": "stdout",
     "output_type": "stream",
     "text": [
      "[-1.07664117e-01  3.88805682e-02 -1.48080103e-02  3.16030150e+00\n",
      " -1.66213766e+01  3.62698114e+00  9.41682017e-03 -1.38660922e+00\n",
      "  3.23845819e-01 -1.16178216e-02 -1.03739550e+00  1.17010073e-02\n",
      " -5.59178684e-01]\n"
     ]
    }
   ],
   "source": [
    "print(regr.coef_)"
   ]
  },
  {
   "cell_type": "code",
   "execution_count": 5,
   "metadata": {},
   "outputs": [
    {
     "name": "stdout",
     "output_type": "stream",
     "text": [
      "MSE for linear regression: 18.512131788427894\n"
     ]
    }
   ],
   "source": [
    "print(f'MSE for linear regression: {mean_squared_error(y_test, y_pred_lr)}')"
   ]
  },
  {
   "cell_type": "code",
   "execution_count": 6,
   "metadata": {},
   "outputs": [
    {
     "name": "stdout",
     "output_type": "stream",
     "text": [
      "[-0.06193097  0.04053005 -0.          0.         -0.          0.95541599\n",
      "  0.02877938 -0.608265    0.27961537 -0.01458372 -0.78990477  0.01053463\n",
      " -0.79692367]\n",
      "MSE for Lasso regression: 22.777489268124242\n"
     ]
    }
   ],
   "source": [
    "lasso = linear_model.Lasso(alpha = 1.0)\n",
    "lasso.fit(x_train, y_train)\n",
    "y_pred2 = lasso.predict(x_test)\n",
    "print(lasso.coef_)\n",
    "print(f'MSE for Lasso regression: {mean_squared_error(y_test, y_pred2)}')"
   ]
  },
  {
   "cell_type": "code",
   "execution_count": 7,
   "metadata": {},
   "outputs": [
    {
     "name": "stdout",
     "output_type": "stream",
     "text": [
      "[-1.05581591e-01  4.00446510e-02 -4.35927658e-02  2.99212634e+00\n",
      " -9.16820847e+00  3.66231566e+00  3.40932323e-03 -1.27751594e+00\n",
      "  3.07392719e-01 -1.22689980e-02 -9.52005700e-01  1.21854510e-02\n",
      " -5.71822884e-01]\n",
      "MSE for Ridge regression: 18.973188687503363\n"
     ]
    }
   ],
   "source": [
    "ridge = linear_model.Ridge(alpha = 1.0)\n",
    "ridge.fit(x_train, y_train)\n",
    "y_pred3 = ridge.predict(x_test)\n",
    "print(ridge.coef_)\n",
    "print(f'MSE for Ridge regression: {mean_squared_error(y_test, y_pred3)}')"
   ]
  },
  {
   "cell_type": "code",
   "execution_count": 8,
   "metadata": {
    "scrolled": false
   },
   "outputs": [
    {
     "name": "stdout",
     "output_type": "stream",
     "text": [
      "[9.70509006e-10 5.24793364e-09 2.84110051e-08 1.53787322e-07\n",
      " 8.31718097e-07 4.50287145e-06 2.43773224e-05 1.31887506e-04\n",
      " 7.15563209e-04 3.92185004e-03 2.25986147e-02 1.62969512e-01\n",
      " 1.36613479e+00 1.57760330e+00 7.99701844e+00 1.52997750e+01]\n"
     ]
    }
   ],
   "source": [
    "control = mean_squared_error(y_test, y_pred_lr)\n",
    "MSE = []\n",
    "varnum = np.logspace(-10, 1, num = 16)\n",
    "for n in varnum: \n",
    "    lasso = linear_model.Lasso(alpha = n)\n",
    "    lasso.fit(x_train, y_train)\n",
    "    y_pred = lasso.predict(x_test)\n",
    "    MSE.append(mean_squared_error(y_test, y_pred))\n",
    "print(MSE - control)"
   ]
  },
  {
   "cell_type": "code",
   "execution_count": 9,
   "metadata": {},
   "outputs": [
    {
     "name": "stdout",
     "output_type": "stream",
     "text": [
      "[5.34257083e-11 2.88192581e-10 1.55874602e-09 8.43458636e-09\n",
      " 4.56445193e-08 2.47013322e-07 1.33676061e-06 7.23415883e-06\n",
      " 3.91496078e-05 2.11881700e-04 1.14710202e-03 6.22063782e-03\n",
      " 3.39422351e-02 1.81822743e-01 6.91276478e-01 1.25187421e+00]\n"
     ]
    },
    {
     "data": {
      "image/png": "[encoded data removed]",
      "text/plain": [
       "<Figure size 432x288 with 1 Axes>"
      ]
     },
     "metadata": {},
     "output_type": "display_data"
    }
   ],
   "source": [
    "MSE2 = []\n",
    "varnum = np.logspace(-10, 1, num = 16)\n",
    "for n in varnum: \n",
    "    ridge = linear_model.Ridge(alpha = n)\n",
    "    ridge.fit(x_train, y_train)\n",
    "    y_pred = ridge.predict(x_test)\n",
    "    MSE2.append(mean_squared_error(y_test, y_pred))\n",
    "print(MSE2 - control)\n",
    "plt.plot(np.linspace(-10, 1, num = 16), MSE - control, color = 'red', label = 'Lasso')\n",
    "plt.plot(np.linspace(-10, 1, num = 16), MSE2 - control, color = 'green', label = 'Ridge')\n",
    "plt.yscale('log')\n",
    "plt.legend()\n",
    "plt.show()"
   ]
  }
 ],
 "metadata": {
  "kernelspec": {
   "display_name": "Python 3",
   "language": "python",
   "name": "python3"
  },
  "language_info": {
   "codemirror_mode": {
    "name": "ipython",
    "version": 3
   },
   "file_extension": ".py",
   "mimetype": "text/x-python",
   "name": "python",
   "nbconvert_exporter": "python",
   "pygments_lexer": "ipython3",
   "version": "3.6.5"
  }
 },
 "nbformat": 4,
 "nbformat_minor": 2
}
