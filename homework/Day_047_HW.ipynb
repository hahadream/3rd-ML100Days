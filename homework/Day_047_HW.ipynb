{
 "cells": [
  {
   "cell_type": "markdown",
   "metadata": {},
   "source": [
    "## [作業重點]\n",
    "了解如何使用 Sklearn 中的 hyper-parameter search 找出最佳的超參數"
   ]
  },
  {
   "cell_type": "markdown",
   "metadata": {},
   "source": [
    "### 作業\n",
    "請使用不同的資料集，並使用 hyper-parameter search 的方式，看能不能找出最佳的超參數組合"
   ]
  },
  {
   "cell_type": "code",
   "execution_count": 1,
   "metadata": {},
   "outputs": [],
   "source": [
    "from sklearn import datasets, metrics\n",
    "from sklearn.model_selection import train_test_split, KFold, GridSearchCV\n",
    "from sklearn.ensemble import GradientBoostingRegressor, GradientBoostingClassifier\n",
    "import pandas as pd\n",
    "import numpy as np"
   ]
  },
  {
   "cell_type": "code",
   "execution_count": 2,
   "metadata": {},
   "outputs": [],
   "source": [
    "iris = datasets.load_iris()"
   ]
  },
  {
   "cell_type": "code",
   "execution_count": 3,
   "metadata": {},
   "outputs": [
    {
     "data": {
      "text/plain": [
       "dict_keys(['data', 'target', 'target_names', 'DESCR', 'feature_names'])"
      ]
     },
     "execution_count": 3,
     "metadata": {},
     "output_type": "execute_result"
    }
   ],
   "source": [
    "iris.keys()"
   ]
  },
  {
   "cell_type": "code",
   "execution_count": 4,
   "metadata": {},
   "outputs": [
    {
     "name": "stdout",
     "output_type": "stream",
     "text": [
      "Accuracy: 0.9777777777777777\n"
     ]
    }
   ],
   "source": [
    "x_train, x_test, y_train, y_test = train_test_split(iris.data, iris.target, test_size = 0.3, random_state = 900)\n",
    "clf = GradientBoostingClassifier()\n",
    "clf.fit(x_train, y_train)\n",
    "y_pred = clf.predict(x_test)\n",
    "print('Accuracy: {}'.format(metrics.accuracy_score(y_test, y_pred)))"
   ]
  },
  {
   "cell_type": "code",
   "execution_count": 5,
   "metadata": {},
   "outputs": [
    {
     "data": {
      "text/plain": [
       "{'criterion': 'friedman_mse',\n",
       " 'init': None,\n",
       " 'learning_rate': 0.1,\n",
       " 'loss': 'deviance',\n",
       " 'max_depth': 3,\n",
       " 'max_features': None,\n",
       " 'max_leaf_nodes': None,\n",
       " 'min_impurity_decrease': 0.0,\n",
       " 'min_impurity_split': None,\n",
       " 'min_samples_leaf': 1,\n",
       " 'min_samples_split': 2,\n",
       " 'min_weight_fraction_leaf': 0.0,\n",
       " 'n_estimators': 100,\n",
       " 'presort': 'auto',\n",
       " 'random_state': None,\n",
       " 'subsample': 1.0,\n",
       " 'verbose': 0,\n",
       " 'warm_start': False}"
      ]
     },
     "execution_count": 5,
     "metadata": {},
     "output_type": "execute_result"
    }
   ],
   "source": [
    "clf.get_params()"
   ]
  },
  {
   "cell_type": "code",
   "execution_count": 6,
   "metadata": {},
   "outputs": [
    {
     "name": "stdout",
     "output_type": "stream",
     "text": [
      "Fitting 3 folds for each of 32 candidates, totalling 96 fits\n"
     ]
    },
    {
     "name": "stderr",
     "output_type": "stream",
     "text": [
      "[Parallel(n_jobs=1)]: Done  96 out of  96 | elapsed:   16.1s finished\n"
     ]
    }
   ],
   "source": [
    "# Grid search on max_depth, n_estimator, criterion\n",
    "# Check accuracy and time for each combination\n",
    "max_depth = [2, 3, 5, 10]\n",
    "n_estimators = [50, 100, 200, 300]\n",
    "criterion = ['friedman_mse', 'mse']\n",
    "params = dict(max_depth = max_depth, n_estimators = n_estimators, criterion = criterion)\n",
    "\n",
    "grid_search = GridSearchCV(clf, param_grid = params, cv = 3, verbose = 1)\n",
    "\n",
    "grid_result = grid_search.fit(x_train, y_train)"
   ]
  },
  {
   "cell_type": "code",
   "execution_count": 7,
   "metadata": {},
   "outputs": [],
   "source": [
    "import warnings\n",
    "warnings.simplefilter('ignore')"
   ]
  },
  {
   "cell_type": "code",
   "execution_count": 8,
   "metadata": {
    "scrolled": false
   },
   "outputs": [
    {
     "data": {
      "text/html": [
       "<div>\n",
       "<style scoped>\n",
       "    .dataframe tbody tr th:only-of-type {\n",
       "        vertical-align: middle;\n",
       "    }\n",
       "\n",
       "    .dataframe tbody tr th {\n",
       "        vertical-align: top;\n",
       "    }\n",
       "\n",
       "    .dataframe thead th {\n",
       "        text-align: right;\n",
       "    }\n",
       "</style>\n",
       "<table border=\"1\" class=\"dataframe\">\n",
       "  <thead>\n",
       "    <tr style=\"text-align: right;\">\n",
       "      <th></th>\n",
       "      <th>mean_fit_time</th>\n",
       "      <th>std_fit_time</th>\n",
       "      <th>mean_score_time</th>\n",
       "      <th>std_score_time</th>\n",
       "      <th>param_criterion</th>\n",
       "      <th>param_max_depth</th>\n",
       "      <th>param_n_estimators</th>\n",
       "      <th>params</th>\n",
       "      <th>split0_test_score</th>\n",
       "      <th>split1_test_score</th>\n",
       "      <th>split2_test_score</th>\n",
       "      <th>mean_test_score</th>\n",
       "      <th>std_test_score</th>\n",
       "      <th>rank_test_score</th>\n",
       "      <th>split0_train_score</th>\n",
       "      <th>split1_train_score</th>\n",
       "      <th>split2_train_score</th>\n",
       "      <th>mean_train_score</th>\n",
       "      <th>std_train_score</th>\n",
       "    </tr>\n",
       "  </thead>\n",
       "  <tbody>\n",
       "    <tr>\n",
       "      <th>0</th>\n",
       "      <td>0.056578</td>\n",
       "      <td>0.003789</td>\n",
       "      <td>0.000428</td>\n",
       "      <td>0.000064</td>\n",
       "      <td>friedman_mse</td>\n",
       "      <td>2</td>\n",
       "      <td>50</td>\n",
       "      <td>{'criterion': 'friedman_mse', 'max_depth': 2, ...</td>\n",
       "      <td>0.916667</td>\n",
       "      <td>0.972222</td>\n",
       "      <td>0.969697</td>\n",
       "      <td>0.952381</td>\n",
       "      <td>0.025817</td>\n",
       "      <td>1</td>\n",
       "      <td>1.0</td>\n",
       "      <td>1.0</td>\n",
       "      <td>1.0</td>\n",
       "      <td>1.0</td>\n",
       "      <td>0.0</td>\n",
       "    </tr>\n",
       "    <tr>\n",
       "      <th>1</th>\n",
       "      <td>0.108364</td>\n",
       "      <td>0.005926</td>\n",
       "      <td>0.000504</td>\n",
       "      <td>0.000178</td>\n",
       "      <td>friedman_mse</td>\n",
       "      <td>2</td>\n",
       "      <td>100</td>\n",
       "      <td>{'criterion': 'friedman_mse', 'max_depth': 2, ...</td>\n",
       "      <td>0.916667</td>\n",
       "      <td>0.972222</td>\n",
       "      <td>0.969697</td>\n",
       "      <td>0.952381</td>\n",
       "      <td>0.025817</td>\n",
       "      <td>1</td>\n",
       "      <td>1.0</td>\n",
       "      <td>1.0</td>\n",
       "      <td>1.0</td>\n",
       "      <td>1.0</td>\n",
       "      <td>0.0</td>\n",
       "    </tr>\n",
       "    <tr>\n",
       "      <th>2</th>\n",
       "      <td>0.182395</td>\n",
       "      <td>0.013797</td>\n",
       "      <td>0.000807</td>\n",
       "      <td>0.000209</td>\n",
       "      <td>friedman_mse</td>\n",
       "      <td>2</td>\n",
       "      <td>200</td>\n",
       "      <td>{'criterion': 'friedman_mse', 'max_depth': 2, ...</td>\n",
       "      <td>0.916667</td>\n",
       "      <td>0.972222</td>\n",
       "      <td>0.969697</td>\n",
       "      <td>0.952381</td>\n",
       "      <td>0.025817</td>\n",
       "      <td>1</td>\n",
       "      <td>1.0</td>\n",
       "      <td>1.0</td>\n",
       "      <td>1.0</td>\n",
       "      <td>1.0</td>\n",
       "      <td>0.0</td>\n",
       "    </tr>\n",
       "    <tr>\n",
       "      <th>3</th>\n",
       "      <td>0.273815</td>\n",
       "      <td>0.024427</td>\n",
       "      <td>0.000549</td>\n",
       "      <td>0.000026</td>\n",
       "      <td>friedman_mse</td>\n",
       "      <td>2</td>\n",
       "      <td>300</td>\n",
       "      <td>{'criterion': 'friedman_mse', 'max_depth': 2, ...</td>\n",
       "      <td>0.916667</td>\n",
       "      <td>0.972222</td>\n",
       "      <td>0.969697</td>\n",
       "      <td>0.952381</td>\n",
       "      <td>0.025817</td>\n",
       "      <td>1</td>\n",
       "      <td>1.0</td>\n",
       "      <td>1.0</td>\n",
       "      <td>1.0</td>\n",
       "      <td>1.0</td>\n",
       "      <td>0.0</td>\n",
       "    </tr>\n",
       "    <tr>\n",
       "      <th>4</th>\n",
       "      <td>0.076972</td>\n",
       "      <td>0.031332</td>\n",
       "      <td>0.000637</td>\n",
       "      <td>0.000276</td>\n",
       "      <td>friedman_mse</td>\n",
       "      <td>3</td>\n",
       "      <td>50</td>\n",
       "      <td>{'criterion': 'friedman_mse', 'max_depth': 3, ...</td>\n",
       "      <td>0.916667</td>\n",
       "      <td>0.972222</td>\n",
       "      <td>0.969697</td>\n",
       "      <td>0.952381</td>\n",
       "      <td>0.025817</td>\n",
       "      <td>1</td>\n",
       "      <td>1.0</td>\n",
       "      <td>1.0</td>\n",
       "      <td>1.0</td>\n",
       "      <td>1.0</td>\n",
       "      <td>0.0</td>\n",
       "    </tr>\n",
       "  </tbody>\n",
       "</table>\n",
       "</div>"
      ],
      "text/plain": [
       "   mean_fit_time  std_fit_time  mean_score_time  std_score_time  \\\n",
       "0       0.056578      0.003789         0.000428        0.000064   \n",
       "1       0.108364      0.005926         0.000504        0.000178   \n",
       "2       0.182395      0.013797         0.000807        0.000209   \n",
       "3       0.273815      0.024427         0.000549        0.000026   \n",
       "4       0.076972      0.031332         0.000637        0.000276   \n",
       "\n",
       "  param_criterion param_max_depth param_n_estimators  \\\n",
       "0    friedman_mse               2                 50   \n",
       "1    friedman_mse               2                100   \n",
       "2    friedman_mse               2                200   \n",
       "3    friedman_mse               2                300   \n",
       "4    friedman_mse               3                 50   \n",
       "\n",
       "                                              params  split0_test_score  \\\n",
       "0  {'criterion': 'friedman_mse', 'max_depth': 2, ...           0.916667   \n",
       "1  {'criterion': 'friedman_mse', 'max_depth': 2, ...           0.916667   \n",
       "2  {'criterion': 'friedman_mse', 'max_depth': 2, ...           0.916667   \n",
       "3  {'criterion': 'friedman_mse', 'max_depth': 2, ...           0.916667   \n",
       "4  {'criterion': 'friedman_mse', 'max_depth': 3, ...           0.916667   \n",
       "\n",
       "   split1_test_score  split2_test_score  mean_test_score  std_test_score  \\\n",
       "0           0.972222           0.969697         0.952381        0.025817   \n",
       "1           0.972222           0.969697         0.952381        0.025817   \n",
       "2           0.972222           0.969697         0.952381        0.025817   \n",
       "3           0.972222           0.969697         0.952381        0.025817   \n",
       "4           0.972222           0.969697         0.952381        0.025817   \n",
       "\n",
       "   rank_test_score  split0_train_score  split1_train_score  \\\n",
       "0                1                 1.0                 1.0   \n",
       "1                1                 1.0                 1.0   \n",
       "2                1                 1.0                 1.0   \n",
       "3                1                 1.0                 1.0   \n",
       "4                1                 1.0                 1.0   \n",
       "\n",
       "   split2_train_score  mean_train_score  std_train_score  \n",
       "0                 1.0               1.0              0.0  \n",
       "1                 1.0               1.0              0.0  \n",
       "2                 1.0               1.0              0.0  \n",
       "3                 1.0               1.0              0.0  \n",
       "4                 1.0               1.0              0.0  "
      ]
     },
     "execution_count": 8,
     "metadata": {},
     "output_type": "execute_result"
    }
   ],
   "source": [
    "grid_cv_results = pd.DataFrame(grid_result.cv_results_)\n",
    "grid_cv_results.head()"
   ]
  },
  {
   "cell_type": "code",
   "execution_count": 9,
   "metadata": {},
   "outputs": [
    {
     "name": "stdout",
     "output_type": "stream",
     "text": [
      "Best parameters are: {'criterion': 'friedman_mse', 'max_depth': 2, 'n_estimators': 50} with score of 0.9523809523809523\n"
     ]
    }
   ],
   "source": [
    "print(f'Best parameters are: {grid_result.best_params_} with score of {grid_result.best_score_}')"
   ]
  },
  {
   "cell_type": "code",
   "execution_count": 10,
   "metadata": {
    "scrolled": false
   },
   "outputs": [
    {
     "data": {
      "text/html": [
       "<div>\n",
       "<style scoped>\n",
       "    .dataframe tbody tr th:only-of-type {\n",
       "        vertical-align: middle;\n",
       "    }\n",
       "\n",
       "    .dataframe tbody tr th {\n",
       "        vertical-align: top;\n",
       "    }\n",
       "\n",
       "    .dataframe thead th {\n",
       "        text-align: right;\n",
       "    }\n",
       "</style>\n",
       "<table border=\"1\" class=\"dataframe\">\n",
       "  <thead>\n",
       "    <tr style=\"text-align: right;\">\n",
       "      <th></th>\n",
       "      <th>mean_fit_time</th>\n",
       "      <th>std_fit_time</th>\n",
       "      <th>mean_score_time</th>\n",
       "      <th>std_score_time</th>\n",
       "      <th>param_criterion</th>\n",
       "      <th>param_max_depth</th>\n",
       "      <th>param_n_estimators</th>\n",
       "      <th>params</th>\n",
       "      <th>split0_test_score</th>\n",
       "      <th>split1_test_score</th>\n",
       "      <th>split2_test_score</th>\n",
       "      <th>mean_test_score</th>\n",
       "      <th>std_test_score</th>\n",
       "      <th>rank_test_score</th>\n",
       "      <th>split0_train_score</th>\n",
       "      <th>split1_train_score</th>\n",
       "      <th>split2_train_score</th>\n",
       "      <th>mean_train_score</th>\n",
       "      <th>std_train_score</th>\n",
       "    </tr>\n",
       "  </thead>\n",
       "  <tbody>\n",
       "    <tr>\n",
       "      <th>0</th>\n",
       "      <td>0.056578</td>\n",
       "      <td>0.003789</td>\n",
       "      <td>0.000428</td>\n",
       "      <td>0.000064</td>\n",
       "      <td>friedman_mse</td>\n",
       "      <td>2</td>\n",
       "      <td>50</td>\n",
       "      <td>{'criterion': 'friedman_mse', 'max_depth': 2, ...</td>\n",
       "      <td>0.916667</td>\n",
       "      <td>0.972222</td>\n",
       "      <td>0.969697</td>\n",
       "      <td>0.952381</td>\n",
       "      <td>0.025817</td>\n",
       "      <td>1</td>\n",
       "      <td>1.0</td>\n",
       "      <td>1.0</td>\n",
       "      <td>1.0</td>\n",
       "      <td>1.0</td>\n",
       "      <td>0.0</td>\n",
       "    </tr>\n",
       "    <tr>\n",
       "      <th>4</th>\n",
       "      <td>0.076972</td>\n",
       "      <td>0.031332</td>\n",
       "      <td>0.000637</td>\n",
       "      <td>0.000276</td>\n",
       "      <td>friedman_mse</td>\n",
       "      <td>3</td>\n",
       "      <td>50</td>\n",
       "      <td>{'criterion': 'friedman_mse', 'max_depth': 3, ...</td>\n",
       "      <td>0.916667</td>\n",
       "      <td>0.972222</td>\n",
       "      <td>0.969697</td>\n",
       "      <td>0.952381</td>\n",
       "      <td>0.025817</td>\n",
       "      <td>1</td>\n",
       "      <td>1.0</td>\n",
       "      <td>1.0</td>\n",
       "      <td>1.0</td>\n",
       "      <td>1.0</td>\n",
       "      <td>0.0</td>\n",
       "    </tr>\n",
       "    <tr>\n",
       "      <th>25</th>\n",
       "      <td>0.087164</td>\n",
       "      <td>0.001914</td>\n",
       "      <td>0.000404</td>\n",
       "      <td>0.000009</td>\n",
       "      <td>mse</td>\n",
       "      <td>5</td>\n",
       "      <td>100</td>\n",
       "      <td>{'criterion': 'mse', 'max_depth': 5, 'n_estima...</td>\n",
       "      <td>0.916667</td>\n",
       "      <td>0.972222</td>\n",
       "      <td>0.969697</td>\n",
       "      <td>0.952381</td>\n",
       "      <td>0.025817</td>\n",
       "      <td>1</td>\n",
       "      <td>1.0</td>\n",
       "      <td>1.0</td>\n",
       "      <td>1.0</td>\n",
       "      <td>1.0</td>\n",
       "      <td>0.0</td>\n",
       "    </tr>\n",
       "  </tbody>\n",
       "</table>\n",
       "</div>"
      ],
      "text/plain": [
       "    mean_fit_time  std_fit_time  mean_score_time  std_score_time  \\\n",
       "0        0.056578      0.003789         0.000428        0.000064   \n",
       "4        0.076972      0.031332         0.000637        0.000276   \n",
       "25       0.087164      0.001914         0.000404        0.000009   \n",
       "\n",
       "   param_criterion param_max_depth param_n_estimators  \\\n",
       "0     friedman_mse               2                 50   \n",
       "4     friedman_mse               3                 50   \n",
       "25             mse               5                100   \n",
       "\n",
       "                                               params  split0_test_score  \\\n",
       "0   {'criterion': 'friedman_mse', 'max_depth': 2, ...           0.916667   \n",
       "4   {'criterion': 'friedman_mse', 'max_depth': 3, ...           0.916667   \n",
       "25  {'criterion': 'mse', 'max_depth': 5, 'n_estima...           0.916667   \n",
       "\n",
       "    split1_test_score  split2_test_score  mean_test_score  std_test_score  \\\n",
       "0            0.972222           0.969697         0.952381        0.025817   \n",
       "4            0.972222           0.969697         0.952381        0.025817   \n",
       "25           0.972222           0.969697         0.952381        0.025817   \n",
       "\n",
       "    rank_test_score  split0_train_score  split1_train_score  \\\n",
       "0                 1                 1.0                 1.0   \n",
       "4                 1                 1.0                 1.0   \n",
       "25                1                 1.0                 1.0   \n",
       "\n",
       "    split2_train_score  mean_train_score  std_train_score  \n",
       "0                  1.0               1.0              0.0  \n",
       "4                  1.0               1.0              0.0  \n",
       "25                 1.0               1.0              0.0  "
      ]
     },
     "execution_count": 10,
     "metadata": {},
     "output_type": "execute_result"
    }
   ],
   "source": [
    "grid_cv_results[grid_cv_results['mean_test_score'] == grid_result.best_score_].sort_values(by = 'mean_fit_time').head(3)"
   ]
  },
  {
   "cell_type": "code",
   "execution_count": 11,
   "metadata": {},
   "outputs": [
    {
     "data": {
      "text/plain": [
       "5    True\n",
       "Name: mean_test_score, dtype: bool"
      ]
     },
     "execution_count": 11,
     "metadata": {},
     "output_type": "execute_result"
    }
   ],
   "source": [
    "grid_cv_results.loc[grid_cv_results['params'] == {'criterion': 'friedman_mse', 'max_depth': 3, 'n_estimators': 100}, 'mean_test_score'] == grid_result.best_score_"
   ]
  },
  {
   "cell_type": "code",
   "execution_count": 12,
   "metadata": {},
   "outputs": [
    {
     "name": "stdout",
     "output_type": "stream",
     "text": [
      "Accuracy: 0.9777777777777777\n"
     ]
    }
   ],
   "source": [
    "clf_best = GradientBoostingClassifier(criterion = 'friedman_mse', max_depth = 2, n_estimators = 50)\n",
    "clf_best.fit(x_train, y_train)\n",
    "y_pred_new = clf_best.predict(x_test)\n",
    "print('Accuracy:', metrics.accuracy_score(y_test, y_pred_new))"
   ]
  },
  {
   "cell_type": "code",
   "execution_count": 13,
   "metadata": {},
   "outputs": [
    {
     "name": "stdout",
     "output_type": "stream",
     "text": [
      "Accuracy: 0.9777777777777777\n"
     ]
    }
   ],
   "source": [
    "clf_best2 = GradientBoostingClassifier(criterion = 'mse', max_depth = 2, n_estimators = 50)\n",
    "clf_best2.fit(x_train, y_train)\n",
    "y_pred_new2 = clf_best2.predict(x_test)\n",
    "print('Accuracy:', metrics.accuracy_score(y_test, y_pred_new2))"
   ]
  }
 ],
 "metadata": {
  "kernelspec": {
   "display_name": "Python 3",
   "language": "python",
   "name": "python3"
  },
  "language_info": {
   "codemirror_mode": {
    "name": "ipython",
    "version": 3
   },
   "file_extension": ".py",
   "mimetype": "text/x-python",
   "name": "python",
   "nbconvert_exporter": "python",
   "pygments_lexer": "ipython3",
   "version": "3.6.5"
  }
 },
 "nbformat": 4,
 "nbformat_minor": 2
}
