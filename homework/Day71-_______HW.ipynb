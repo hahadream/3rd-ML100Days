{
 "cells": [
  {
   "cell_type": "markdown",
   "metadata": {
    "colab_type": "text",
    "id": "cj4tE8e8iUtO"
   },
   "source": [
    "#   \n",
    "\n",
    "# 作業目標:\n",
    "\n",
    "    1. 藉由固定的 dataset, 來驗證不同loss function\n",
    "    2. Dataset 的特性跟我們選用的loss function 對accrancy 的影響\n",
    "    \n",
    "    \n",
    "# 作業重點: \n",
    "    請分別選用 \"MSE\", \"binary _crossentropy\"\n",
    "    查看Train/test accurancy and loss rate\n",
    "    "
   ]
  },
  {
   "cell_type": "markdown",
   "metadata": {
    "colab_type": "text",
    "id": "R51J4KyyiUsL"
   },
   "source": [
    "# 導入必要的函數"
   ]
  },
  {
   "cell_type": "code",
   "execution_count": 1,
   "metadata": {
    "colab": {},
    "colab_type": "code",
    "id": "Qd68OQjciUsM"
   },
   "outputs": [
    {
     "name": "stderr",
     "output_type": "stream",
     "text": [
      "Using TensorFlow backend.\n"
     ]
    }
   ],
   "source": [
    "from keras.datasets import cifar10\n",
    "import numpy as np\n",
    "np.random.seed(10)"
   ]
  },
  {
   "cell_type": "markdown",
   "metadata": {
    "colab_type": "text",
    "id": "GxKuzQLQiUsP"
   },
   "source": [
    "# 資料準備"
   ]
  },
  {
   "cell_type": "code",
   "execution_count": 2,
   "metadata": {
    "colab": {},
    "colab_type": "code",
    "id": "MIbFZdTCiUsQ"
   },
   "outputs": [],
   "source": [
    "#取得Keras Dataset\n",
    "(x_img_train,y_label_train),(x_img_test,y_label_test)=cifar10.load_data()"
   ]
  },
  {
   "cell_type": "code",
   "execution_count": 3,
   "metadata": {
    "colab": {},
    "colab_type": "code",
    "id": "J8CJVjNOiUsS"
   },
   "outputs": [
    {
     "name": "stdout",
     "output_type": "stream",
     "text": [
      "train data: images: (50000, 32, 32, 3)  labels: (50000, 1)\n",
      "test  data: images: (10000, 32, 32, 3)  labels: (10000, 1)\n"
     ]
    }
   ],
   "source": [
    "#確認 CIFAR10 Dataset 資料維度\n",
    "print(\"train data:\",'images:',x_img_train.shape,\n",
    "      \" labels:\",y_label_train.shape) \n",
    "print(\"test  data:\",'images:',x_img_test.shape ,\n",
    "      \" labels:\",y_label_test.shape) "
   ]
  },
  {
   "cell_type": "code",
   "execution_count": 4,
   "metadata": {
    "colab": {},
    "colab_type": "code",
    "id": "V3P6P4DXiUsV"
   },
   "outputs": [],
   "source": [
    "#資料正規化\n",
    "x_img_train_normalize = x_img_train.astype('float32') / 255.0\n",
    "x_img_test_normalize = x_img_test.astype('float32') / 255.0"
   ]
  },
  {
   "cell_type": "code",
   "execution_count": 5,
   "metadata": {
    "colab": {},
    "colab_type": "code",
    "id": "vsDyjKYliUsX"
   },
   "outputs": [
    {
     "data": {
      "text/plain": [
       "(10000, 10)"
      ]
     },
     "execution_count": 5,
     "metadata": {},
     "output_type": "execute_result"
    }
   ],
   "source": [
    "#針對Label 做 ONE HOT ENCODE\n",
    "from keras.utils import np_utils\n",
    "y_label_train_OneHot = np_utils.to_categorical(y_label_train)\n",
    "y_label_test_OneHot = np_utils.to_categorical(y_label_test)\n",
    "y_label_test_OneHot.shape"
   ]
  },
  {
   "cell_type": "markdown",
   "metadata": {
    "colab_type": "text",
    "id": "RutW2OtgiUsZ"
   },
   "source": [
    "# 建立模型"
   ]
  },
  {
   "cell_type": "code",
   "execution_count": 6,
   "metadata": {
    "colab": {},
    "colab_type": "code",
    "id": "aHz592aXiUsa"
   },
   "outputs": [],
   "source": [
    "from keras.models import Sequential\n",
    "from keras.layers import Dense, Dropout, Activation, Flatten\n",
    "from keras.layers import Conv2D, MaxPooling2D, ZeroPadding2D"
   ]
  },
  {
   "cell_type": "code",
   "execution_count": 7,
   "metadata": {
    "colab": {},
    "colab_type": "code",
    "id": "hslqrIp0iUse"
   },
   "outputs": [],
   "source": [
    "model = Sequential()"
   ]
  },
  {
   "cell_type": "code",
   "execution_count": 8,
   "metadata": {
    "colab": {},
    "colab_type": "code",
    "id": "Hqe35hs2iUsi"
   },
   "outputs": [],
   "source": [
    "#卷積層1"
   ]
  },
  {
   "cell_type": "code",
   "execution_count": 8,
   "metadata": {
    "colab": {},
    "colab_type": "code",
    "id": "ED7dqe1YiUsm"
   },
   "outputs": [],
   "source": [
    "model.add(Conv2D(filters=32,kernel_size=(3,3),\n",
    "                 input_shape=(32, 32,3), \n",
    "                 activation='relu', \n",
    "                 padding='same'))"
   ]
  },
  {
   "cell_type": "code",
   "execution_count": 9,
   "metadata": {
    "colab": {},
    "colab_type": "code",
    "id": "n-GRKmPViUso"
   },
   "outputs": [],
   "source": [
    "model.add(Dropout(rate=0.25))"
   ]
  },
  {
   "cell_type": "code",
   "execution_count": 10,
   "metadata": {
    "colab": {},
    "colab_type": "code",
    "id": "GlWnnD1uiUsw"
   },
   "outputs": [],
   "source": [
    "model.add(MaxPooling2D(pool_size=(2, 2)))"
   ]
  },
  {
   "cell_type": "code",
   "execution_count": 12,
   "metadata": {
    "colab": {},
    "colab_type": "code",
    "id": "nawlkt55iUsy"
   },
   "outputs": [],
   "source": [
    "#卷積層2與池化層2"
   ]
  },
  {
   "cell_type": "code",
   "execution_count": 11,
   "metadata": {
    "colab": {},
    "colab_type": "code",
    "id": "xxyETiKNiUs1"
   },
   "outputs": [],
   "source": [
    "model.add(Conv2D(filters=64, kernel_size=(3, 3), \n",
    "                 activation='relu', padding='same'))"
   ]
  },
  {
   "cell_type": "code",
   "execution_count": 12,
   "metadata": {
    "colab": {},
    "colab_type": "code",
    "id": "RqcKWtqGiUs2"
   },
   "outputs": [],
   "source": [
    "model.add(Dropout(0.25))"
   ]
  },
  {
   "cell_type": "code",
   "execution_count": 13,
   "metadata": {
    "colab": {},
    "colab_type": "code",
    "id": "BUOOzlqfiUs4"
   },
   "outputs": [],
   "source": [
    "model.add(MaxPooling2D(pool_size=(2, 2)))"
   ]
  },
  {
   "cell_type": "code",
   "execution_count": 16,
   "metadata": {
    "colab": {},
    "colab_type": "code",
    "id": "LpkppB2siUs7"
   },
   "outputs": [],
   "source": [
    "#建立神經網路(平坦層、隱藏層、輸出層)"
   ]
  },
  {
   "cell_type": "code",
   "execution_count": 14,
   "metadata": {
    "colab": {},
    "colab_type": "code",
    "id": "UQOfU54_iUs_"
   },
   "outputs": [],
   "source": [
    "model.add(Flatten())\n",
    "model.add(Dropout(rate=0.25))"
   ]
  },
  {
   "cell_type": "code",
   "execution_count": 15,
   "metadata": {
    "colab": {},
    "colab_type": "code",
    "id": "_NV-8sq4iUtD"
   },
   "outputs": [],
   "source": [
    "model.add(Dense(1024, activation='relu'))\n",
    "model.add(Dropout(rate=0.25))"
   ]
  },
  {
   "cell_type": "code",
   "execution_count": 16,
   "metadata": {
    "colab": {},
    "colab_type": "code",
    "id": "qVK77krOiUtF"
   },
   "outputs": [],
   "source": [
    "model.add(Dense(10, activation='softmax'))"
   ]
  },
  {
   "cell_type": "code",
   "execution_count": 17,
   "metadata": {
    "colab": {},
    "colab_type": "code",
    "id": "ZxzRIjR0iUtH"
   },
   "outputs": [
    {
     "name": "stdout",
     "output_type": "stream",
     "text": [
      "Model: \"sequential_1\"\n",
      "_________________________________________________________________\n",
      "Layer (type)                 Output Shape              Param #   \n",
      "=================================================================\n",
      "conv2d_1 (Conv2D)            (None, 32, 32, 32)        896       \n",
      "_________________________________________________________________\n",
      "dropout_1 (Dropout)          (None, 32, 32, 32)        0         \n",
      "_________________________________________________________________\n",
      "max_pooling2d_1 (MaxPooling2 (None, 16, 16, 32)        0         \n",
      "_________________________________________________________________\n",
      "conv2d_2 (Conv2D)            (None, 16, 16, 64)        18496     \n",
      "_________________________________________________________________\n",
      "dropout_2 (Dropout)          (None, 16, 16, 64)        0         \n",
      "_________________________________________________________________\n",
      "max_pooling2d_2 (MaxPooling2 (None, 8, 8, 64)          0         \n",
      "_________________________________________________________________\n",
      "flatten_1 (Flatten)          (None, 4096)              0         \n",
      "_________________________________________________________________\n",
      "dropout_3 (Dropout)          (None, 4096)              0         \n",
      "_________________________________________________________________\n",
      "dense_1 (Dense)              (None, 1024)              4195328   \n",
      "_________________________________________________________________\n",
      "dropout_4 (Dropout)          (None, 1024)              0         \n",
      "_________________________________________________________________\n",
      "dense_2 (Dense)              (None, 10)                10250     \n",
      "=================================================================\n",
      "Total params: 4,224,970\n",
      "Trainable params: 4,224,970\n",
      "Non-trainable params: 0\n",
      "_________________________________________________________________\n",
      "None\n"
     ]
    }
   ],
   "source": [
    "#檢查model 的STACK\n",
    "print(model.summary())"
   ]
  },
  {
   "cell_type": "markdown",
   "metadata": {
    "colab_type": "text",
    "id": "QJCtpJM0iUtJ"
   },
   "source": [
    "# 載入之前訓練的模型"
   ]
  },
  {
   "cell_type": "code",
   "execution_count": 18,
   "metadata": {
    "colab": {},
    "colab_type": "code",
    "id": "JU3A6NzQiUtK"
   },
   "outputs": [
    {
     "name": "stdout",
     "output_type": "stream",
     "text": [
      "載入模型失敗!開始訓練一個新模型\n"
     ]
    }
   ],
   "source": [
    "try:\n",
    "    model.load_weights(\"SaveModel/cifarCnnModel.h5\")\n",
    "    print(\"載入模型成功!繼續訓練模型\")\n",
    "except :    \n",
    "    print(\"載入模型失敗!開始訓練一個新模型\")"
   ]
  },
  {
   "cell_type": "markdown",
   "metadata": {
    "colab_type": "text",
    "id": "qBbCuziziUtM"
   },
   "source": [
    "# 訓練模型"
   ]
  },
  {
   "cell_type": "code",
   "execution_count": 19,
   "metadata": {
    "colab": {},
    "colab_type": "code",
    "id": "Q6BiBcseiUtP"
   },
   "outputs": [
    {
     "data": {
      "text/plain": [
       "'\\n作業:\\n請分別選用 \"MSE\", \"binary _crossentropy\"\\n查看Train/test accurancy and loss rate\\n'"
      ]
     },
     "execution_count": 19,
     "metadata": {},
     "output_type": "execute_result"
    }
   ],
   "source": [
    "model.compile(loss='categorical_crossentropy', optimizer='sgd', metrics=['accuracy'])\n",
    "\n",
    "'''\n",
    "作業:\n",
    "請分別選用 \"MSE\", \"binary _crossentropy\"\n",
    "查看Train/test accurancy and loss rate\n",
    "'''"
   ]
  },
  {
   "cell_type": "code",
   "execution_count": 20,
   "metadata": {
    "colab": {},
    "colab_type": "code",
    "id": "4-GdDgmQiUtS"
   },
   "outputs": [
    {
     "name": "stdout",
     "output_type": "stream",
     "text": [
      "Train on 37500 samples, validate on 12500 samples\n",
      "Epoch 1/12\n",
      "37500/37500 [==============================] - 52s 1ms/step - loss: 2.1653 - accuracy: 0.2015 - val_loss: 2.0542 - val_accuracy: 0.2965\n",
      "Epoch 2/12\n",
      "37500/37500 [==============================] - 52s 1ms/step - loss: 1.9513 - accuracy: 0.2996 - val_loss: 1.9514 - val_accuracy: 0.3375\n",
      "Epoch 3/12\n",
      "37500/37500 [==============================] - 51s 1ms/step - loss: 1.8252 - accuracy: 0.3509 - val_loss: 1.8230 - val_accuracy: 0.3963\n",
      "Epoch 4/12\n",
      "37500/37500 [==============================] - 51s 1ms/step - loss: 1.7230 - accuracy: 0.3869 - val_loss: 1.7428 - val_accuracy: 0.4187\n",
      "Epoch 5/12\n",
      "37500/37500 [==============================] - 51s 1ms/step - loss: 1.6392 - accuracy: 0.4163 - val_loss: 1.6558 - val_accuracy: 0.4535\n",
      "Epoch 6/12\n",
      "37500/37500 [==============================] - 52s 1ms/step - loss: 1.5694 - accuracy: 0.4368 - val_loss: 1.6109 - val_accuracy: 0.4680\n",
      "Epoch 7/12\n",
      "37500/37500 [==============================] - 51s 1ms/step - loss: 1.5151 - accuracy: 0.4590 - val_loss: 1.5687 - val_accuracy: 0.4699\n",
      "Epoch 8/12\n",
      "37500/37500 [==============================] - 51s 1ms/step - loss: 1.4714 - accuracy: 0.4721 - val_loss: 1.4948 - val_accuracy: 0.5030\n",
      "Epoch 9/12\n",
      "37500/37500 [==============================] - 52s 1ms/step - loss: 1.4339 - accuracy: 0.4844 - val_loss: 1.4795 - val_accuracy: 0.5102\n",
      "Epoch 10/12\n",
      "37500/37500 [==============================] - 52s 1ms/step - loss: 1.4035 - accuracy: 0.4991 - val_loss: 1.4383 - val_accuracy: 0.5259\n",
      "Epoch 11/12\n",
      "37500/37500 [==============================] - 52s 1ms/step - loss: 1.3747 - accuracy: 0.5093 - val_loss: 1.4075 - val_accuracy: 0.5362\n",
      "Epoch 12/12\n",
      "37500/37500 [==============================] - 51s 1ms/step - loss: 1.3477 - accuracy: 0.5210 - val_loss: 1.3855 - val_accuracy: 0.5443\n"
     ]
    }
   ],
   "source": [
    "train_history = model.fit(x_img_train_normalize, y_label_train_OneHot, validation_split = 0.25, epochs = 12, batch_size = 128, verbose = 1)"
   ]
  },
  {
   "cell_type": "code",
   "execution_count": 22,
   "metadata": {},
   "outputs": [
    {
     "name": "stdout",
     "output_type": "stream",
     "text": [
      "10000/10000 [==============================] - 4s 387us/step\n"
     ]
    }
   ],
   "source": [
    "scores1 = model.evaluate(x_img_test_normalize, y_label_test_OneHot)"
   ]
  },
  {
   "cell_type": "code",
   "execution_count": 24,
   "metadata": {},
   "outputs": [
    {
     "name": "stdout",
     "output_type": "stream",
     "text": [
      "Loss value for loss = \"categorical_crossentropy\": 1.372372999191284\n",
      "Accuracy for loss = \"categorical_crossentropy\": 0.5468999743461609\n"
     ]
    }
   ],
   "source": [
    "print('Loss value for loss = \"categorical_crossentropy\":', scores1[0])\n",
    "print('Accuracy for loss = \"categorical_crossentropy\":', scores1[1])"
   ]
  },
  {
   "cell_type": "code",
   "execution_count": 26,
   "metadata": {},
   "outputs": [],
   "source": [
    "model.compile(loss = \"mean_squared_error\", optimizer = 'sgd', metrics = ['accuracy'])"
   ]
  },
  {
   "cell_type": "code",
   "execution_count": 27,
   "metadata": {},
   "outputs": [
    {
     "name": "stdout",
     "output_type": "stream",
     "text": [
      "Train on 37500 samples, validate on 12500 samples\n",
      "Epoch 1/12\n",
      "37500/37500 [==============================] - 56s 1ms/step - loss: 0.0606 - accuracy: 0.5330 - val_loss: 0.0628 - val_accuracy: 0.5446\n",
      "Epoch 2/12\n",
      "37500/37500 [==============================] - 56s 1ms/step - loss: 0.0603 - accuracy: 0.5328 - val_loss: 0.0628 - val_accuracy: 0.5472\n",
      "Epoch 3/12\n",
      "37500/37500 [==============================] - 56s 1ms/step - loss: 0.0603 - accuracy: 0.5339 - val_loss: 0.0626 - val_accuracy: 0.5477\n",
      "Epoch 4/12\n",
      "37500/37500 [==============================] - 56s 1ms/step - loss: 0.0601 - accuracy: 0.5360 - val_loss: 0.0627 - val_accuracy: 0.5462\n",
      "Epoch 5/12\n",
      "37500/37500 [==============================] - 56s 1ms/step - loss: 0.0601 - accuracy: 0.5345 - val_loss: 0.0626 - val_accuracy: 0.5488\n",
      "Epoch 6/12\n",
      "37500/37500 [==============================] - 56s 2ms/step - loss: 0.0600 - accuracy: 0.5341 - val_loss: 0.0625 - val_accuracy: 0.5480\n",
      "Epoch 7/12\n",
      "37500/37500 [==============================] - 56s 1ms/step - loss: 0.0601 - accuracy: 0.5369 - val_loss: 0.0624 - val_accuracy: 0.5490\n",
      "Epoch 8/12\n",
      "37500/37500 [==============================] - 56s 1ms/step - loss: 0.0600 - accuracy: 0.5394 - val_loss: 0.0625 - val_accuracy: 0.5473\n",
      "Epoch 9/12\n",
      "37500/37500 [==============================] - 56s 2ms/step - loss: 0.0599 - accuracy: 0.5394 - val_loss: 0.0623 - val_accuracy: 0.5512\n",
      "Epoch 10/12\n",
      "37500/37500 [==============================] - 56s 1ms/step - loss: 0.0598 - accuracy: 0.5384 - val_loss: 0.0623 - val_accuracy: 0.5502\n",
      "Epoch 11/12\n",
      "37500/37500 [==============================] - 56s 1ms/step - loss: 0.0599 - accuracy: 0.5377 - val_loss: 0.0622 - val_accuracy: 0.5537\n",
      "Epoch 12/12\n",
      "37500/37500 [==============================] - 56s 1ms/step - loss: 0.0596 - accuracy: 0.5399 - val_loss: 0.0622 - val_accuracy: 0.5526\n"
     ]
    }
   ],
   "source": [
    "train_history = model.fit(x_img_train_normalize, y_label_train_OneHot, validation_split = 0.25, epochs = 12, batch_size = 128, verbose = 1)"
   ]
  },
  {
   "cell_type": "code",
   "execution_count": 28,
   "metadata": {},
   "outputs": [
    {
     "name": "stdout",
     "output_type": "stream",
     "text": [
      "10000/10000 [==============================] - 4s 395us/step\n"
     ]
    }
   ],
   "source": [
    "scores2 = model.evaluate(x_img_test_normalize, y_label_test_OneHot)"
   ]
  },
  {
   "cell_type": "code",
   "execution_count": 30,
   "metadata": {},
   "outputs": [
    {
     "name": "stdout",
     "output_type": "stream",
     "text": [
      "Loss value for loss = 'MSE': 0.06189467582702637\n",
      "Accuracy for loss = 'MSE': 0.553600013256073\n"
     ]
    }
   ],
   "source": [
    "print(\"Loss value for loss = 'MSE':\", scores2[0])\n",
    "print(\"Accuracy for loss = 'MSE':\", scores2[1])"
   ]
  },
  {
   "cell_type": "code",
   "execution_count": 31,
   "metadata": {},
   "outputs": [],
   "source": [
    "model.compile(loss = 'binary_crossentropy', optimizer = 'sgd', metrics = ['accuracy'])"
   ]
  },
  {
   "cell_type": "code",
   "execution_count": 32,
   "metadata": {},
   "outputs": [
    {
     "name": "stdout",
     "output_type": "stream",
     "text": [
      "Train on 37500 samples, validate on 12500 samples\n",
      "Epoch 1/12\n",
      "37500/37500 [==============================] - 56s 1ms/step - loss: 0.2026 - accuracy: 0.9206 - val_loss: 0.2119 - val_accuracy: 0.9156\n",
      "Epoch 2/12\n",
      "37500/37500 [==============================] - 56s 2ms/step - loss: 0.2019 - accuracy: 0.9209 - val_loss: 0.2119 - val_accuracy: 0.9156\n",
      "Epoch 3/12\n",
      "37500/37500 [==============================] - 56s 1ms/step - loss: 0.2013 - accuracy: 0.9210 - val_loss: 0.2111 - val_accuracy: 0.9159\n",
      "Epoch 4/12\n",
      "37500/37500 [==============================] - 56s 1ms/step - loss: 0.2009 - accuracy: 0.9214 - val_loss: 0.2108 - val_accuracy: 0.9160\n",
      "Epoch 5/12\n",
      "37500/37500 [==============================] - 56s 1ms/step - loss: 0.2010 - accuracy: 0.9210 - val_loss: 0.2103 - val_accuracy: 0.9162\n",
      "Epoch 6/12\n",
      "37500/37500 [==============================] - 56s 1ms/step - loss: 0.2009 - accuracy: 0.9210 - val_loss: 0.2104 - val_accuracy: 0.9161\n",
      "Epoch 7/12\n",
      "37500/37500 [==============================] - 56s 2ms/step - loss: 0.1996 - accuracy: 0.9216 - val_loss: 0.2098 - val_accuracy: 0.9165\n",
      "Epoch 8/12\n",
      "37500/37500 [==============================] - 56s 1ms/step - loss: 0.1985 - accuracy: 0.9223 - val_loss: 0.2095 - val_accuracy: 0.9166\n",
      "Epoch 9/12\n",
      "37500/37500 [==============================] - 56s 1ms/step - loss: 0.1988 - accuracy: 0.9221 - val_loss: 0.2087 - val_accuracy: 0.9168\n",
      "Epoch 10/12\n",
      "37500/37500 [==============================] - 56s 1ms/step - loss: 0.1985 - accuracy: 0.9221 - val_loss: 0.2086 - val_accuracy: 0.9165\n",
      "Epoch 11/12\n",
      "37500/37500 [==============================] - 56s 2ms/step - loss: 0.1985 - accuracy: 0.9221 - val_loss: 0.2080 - val_accuracy: 0.9173\n",
      "Epoch 12/12\n",
      "37500/37500 [==============================] - 56s 1ms/step - loss: 0.1978 - accuracy: 0.9224 - val_loss: 0.2079 - val_accuracy: 0.9171\n"
     ]
    }
   ],
   "source": [
    "train_history = model.fit(x_img_train_normalize, y_label_train_OneHot, validation_split = 0.25, epochs = 12, batch_size = 128, verbose = 1)"
   ]
  },
  {
   "cell_type": "code",
   "execution_count": 33,
   "metadata": {},
   "outputs": [
    {
     "name": "stdout",
     "output_type": "stream",
     "text": [
      "10000/10000 [==============================] - 4s 384us/step\n"
     ]
    }
   ],
   "source": [
    "scores3 = model.evaluate(x_img_test_normalize, y_label_test_OneHot)"
   ]
  },
  {
   "cell_type": "code",
   "execution_count": 34,
   "metadata": {},
   "outputs": [
    {
     "name": "stdout",
     "output_type": "stream",
     "text": [
      "Loss value for loss = \"binary_crossentropy\": 0.206532248544693\n",
      "Accuracy for loss = \"binary_crossentropy\": 0.9171599745750427\n"
     ]
    }
   ],
   "source": [
    "print('Loss value for loss = \"binary_crossentropy\":', scores3[0])\n",
    "print('Accuracy for loss = \"binary_crossentropy\":', scores3[1])"
   ]
  }
 ],
 "metadata": {
  "colab": {
   "name": "Day71-使用損失函數_HW.ipynb",
   "provenance": [],
   "version": "0.3.2"
  },
  "kernelspec": {
   "display_name": "Python 3",
   "language": "python",
   "name": "python3"
  },
  "language_info": {
   "codemirror_mode": {
    "name": "ipython",
    "version": 3
   },
   "file_extension": ".py",
   "mimetype": "text/x-python",
   "name": "python",
   "nbconvert_exporter": "python",
   "pygments_lexer": "ipython3",
   "version": "3.6.9"
  }
 },
 "nbformat": 4,
 "nbformat_minor": 1
}
